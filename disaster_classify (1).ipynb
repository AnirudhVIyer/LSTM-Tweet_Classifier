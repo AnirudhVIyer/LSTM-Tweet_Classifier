{
 "cells": [
  {
   "cell_type": "code",
   "execution_count": 54,
   "id": "0012638e",
   "metadata": {},
   "outputs": [],
   "source": [
    "import nltk\n",
    "import gensim\n",
    "import pandas as pd\n",
    "import re\n",
    "import keras\n",
    "import numpy as np"
   ]
  },
  {
   "cell_type": "code",
   "execution_count": 55,
   "id": "28cca0fa",
   "metadata": {},
   "outputs": [],
   "source": [
    "import matplotlib.pyplot as plt\n",
    "%matplotlib inline\n",
    "import seaborn as sns"
   ]
  },
  {
   "cell_type": "code",
   "execution_count": 56,
   "id": "020ff28b",
   "metadata": {},
   "outputs": [],
   "source": [
    "df = pd.read_csv('train.csv')"
   ]
  },
  {
   "cell_type": "code",
   "execution_count": 57,
   "id": "063e0305",
   "metadata": {},
   "outputs": [
    {
     "data": {
      "text/html": [
       "<div>\n",
       "<style scoped>\n",
       "    .dataframe tbody tr th:only-of-type {\n",
       "        vertical-align: middle;\n",
       "    }\n",
       "\n",
       "    .dataframe tbody tr th {\n",
       "        vertical-align: top;\n",
       "    }\n",
       "\n",
       "    .dataframe thead th {\n",
       "        text-align: right;\n",
       "    }\n",
       "</style>\n",
       "<table border=\"1\" class=\"dataframe\">\n",
       "  <thead>\n",
       "    <tr style=\"text-align: right;\">\n",
       "      <th></th>\n",
       "      <th>id</th>\n",
       "      <th>keyword</th>\n",
       "      <th>location</th>\n",
       "      <th>text</th>\n",
       "      <th>target</th>\n",
       "    </tr>\n",
       "  </thead>\n",
       "  <tbody>\n",
       "    <tr>\n",
       "      <th>0</th>\n",
       "      <td>1</td>\n",
       "      <td>NaN</td>\n",
       "      <td>NaN</td>\n",
       "      <td>Our Deeds are the Reason of this #earthquake M...</td>\n",
       "      <td>1</td>\n",
       "    </tr>\n",
       "    <tr>\n",
       "      <th>1</th>\n",
       "      <td>4</td>\n",
       "      <td>NaN</td>\n",
       "      <td>NaN</td>\n",
       "      <td>Forest fire near La Ronge Sask. Canada</td>\n",
       "      <td>1</td>\n",
       "    </tr>\n",
       "    <tr>\n",
       "      <th>2</th>\n",
       "      <td>5</td>\n",
       "      <td>NaN</td>\n",
       "      <td>NaN</td>\n",
       "      <td>All residents asked to 'shelter in place' are ...</td>\n",
       "      <td>1</td>\n",
       "    </tr>\n",
       "    <tr>\n",
       "      <th>3</th>\n",
       "      <td>6</td>\n",
       "      <td>NaN</td>\n",
       "      <td>NaN</td>\n",
       "      <td>13,000 people receive #wildfires evacuation or...</td>\n",
       "      <td>1</td>\n",
       "    </tr>\n",
       "    <tr>\n",
       "      <th>4</th>\n",
       "      <td>7</td>\n",
       "      <td>NaN</td>\n",
       "      <td>NaN</td>\n",
       "      <td>Just got sent this photo from Ruby #Alaska as ...</td>\n",
       "      <td>1</td>\n",
       "    </tr>\n",
       "  </tbody>\n",
       "</table>\n",
       "</div>"
      ],
      "text/plain": [
       "   id keyword location                                               text  \\\n",
       "0   1     NaN      NaN  Our Deeds are the Reason of this #earthquake M...   \n",
       "1   4     NaN      NaN             Forest fire near La Ronge Sask. Canada   \n",
       "2   5     NaN      NaN  All residents asked to 'shelter in place' are ...   \n",
       "3   6     NaN      NaN  13,000 people receive #wildfires evacuation or...   \n",
       "4   7     NaN      NaN  Just got sent this photo from Ruby #Alaska as ...   \n",
       "\n",
       "   target  \n",
       "0       1  \n",
       "1       1  \n",
       "2       1  \n",
       "3       1  \n",
       "4       1  "
      ]
     },
     "execution_count": 57,
     "metadata": {},
     "output_type": "execute_result"
    }
   ],
   "source": [
    "df.head()"
   ]
  },
  {
   "cell_type": "code",
   "execution_count": 58,
   "id": "f56adbb4",
   "metadata": {},
   "outputs": [],
   "source": [
    "## number of sarcasm \n",
    "df_new = df.iloc[:,3:]"
   ]
  },
  {
   "cell_type": "code",
   "execution_count": 59,
   "id": "7bedad2b",
   "metadata": {},
   "outputs": [
    {
     "data": {
      "text/html": [
       "<div>\n",
       "<style scoped>\n",
       "    .dataframe tbody tr th:only-of-type {\n",
       "        vertical-align: middle;\n",
       "    }\n",
       "\n",
       "    .dataframe tbody tr th {\n",
       "        vertical-align: top;\n",
       "    }\n",
       "\n",
       "    .dataframe thead th {\n",
       "        text-align: right;\n",
       "    }\n",
       "</style>\n",
       "<table border=\"1\" class=\"dataframe\">\n",
       "  <thead>\n",
       "    <tr style=\"text-align: right;\">\n",
       "      <th></th>\n",
       "      <th>text</th>\n",
       "      <th>target</th>\n",
       "    </tr>\n",
       "  </thead>\n",
       "  <tbody>\n",
       "    <tr>\n",
       "      <th>0</th>\n",
       "      <td>Our Deeds are the Reason of this #earthquake M...</td>\n",
       "      <td>1</td>\n",
       "    </tr>\n",
       "    <tr>\n",
       "      <th>1</th>\n",
       "      <td>Forest fire near La Ronge Sask. Canada</td>\n",
       "      <td>1</td>\n",
       "    </tr>\n",
       "    <tr>\n",
       "      <th>2</th>\n",
       "      <td>All residents asked to 'shelter in place' are ...</td>\n",
       "      <td>1</td>\n",
       "    </tr>\n",
       "    <tr>\n",
       "      <th>3</th>\n",
       "      <td>13,000 people receive #wildfires evacuation or...</td>\n",
       "      <td>1</td>\n",
       "    </tr>\n",
       "    <tr>\n",
       "      <th>4</th>\n",
       "      <td>Just got sent this photo from Ruby #Alaska as ...</td>\n",
       "      <td>1</td>\n",
       "    </tr>\n",
       "  </tbody>\n",
       "</table>\n",
       "</div>"
      ],
      "text/plain": [
       "                                                text  target\n",
       "0  Our Deeds are the Reason of this #earthquake M...       1\n",
       "1             Forest fire near La Ronge Sask. Canada       1\n",
       "2  All residents asked to 'shelter in place' are ...       1\n",
       "3  13,000 people receive #wildfires evacuation or...       1\n",
       "4  Just got sent this photo from Ruby #Alaska as ...       1"
      ]
     },
     "execution_count": 59,
     "metadata": {},
     "output_type": "execute_result"
    }
   ],
   "source": [
    "df_new.head()"
   ]
  },
  {
   "cell_type": "code",
   "execution_count": 60,
   "id": "531ea641",
   "metadata": {},
   "outputs": [
    {
     "data": {
      "text/plain": [
       "<AxesSubplot:>"
      ]
     },
     "execution_count": 60,
     "metadata": {},
     "output_type": "execute_result"
    },
    {
     "data": {
      "image/png": "[encoded data removed]",
      "text/plain": [
       "<Figure size 432x288 with 1 Axes>"
      ]
     },
     "metadata": {
      "needs_background": "light"
     },
     "output_type": "display_data"
    }
   ],
   "source": [
    "df_new['text'].str.len().hist() ## no. of characters"
   ]
  },
  {
   "cell_type": "code",
   "execution_count": 61,
   "id": "3832633a",
   "metadata": {},
   "outputs": [
    {
     "data": {
      "text/plain": [
       "<function matplotlib.pyplot.show(close=None, block=None)>"
      ]
     },
     "execution_count": 61,
     "metadata": {},
     "output_type": "execute_result"
    },
    {
     "data": {
      "image/png": "[encoded data removed]",
      "text/plain": [
       "<Figure size 432x288 with 1 Axes>"
      ]
     },
     "metadata": {
      "needs_background": "light"
     },
     "output_type": "display_data"
    }
   ],
   "source": [
    "## no. of words \n",
    "count = []\n",
    "for plot in df_new.text:\n",
    "    words = plot.split()\n",
    "    count.append(len(words))\n",
    "    \n",
    "plt.hist(count)\n",
    "plt.show"
   ]
  },
  {
   "cell_type": "code",
   "execution_count": 62,
   "id": "eb6154a0",
   "metadata": {},
   "outputs": [
    {
     "data": {
      "text/plain": [
       "<AxesSubplot:>"
      ]
     },
     "execution_count": 62,
     "metadata": {},
     "output_type": "execute_result"
    },
    {
     "data": {
      "image/png": "[encoded data removed]",
      "text/plain": [
       "<Figure size 432x288 with 1 Axes>"
      ]
     },
     "metadata": {
      "needs_background": "light"
     },
     "output_type": "display_data"
    }
   ],
   "source": [
    "## creating a corpus of words for the analysis \n",
    "stop = set(nltk.corpus.stopwords.words('english'))\n",
    "corpus=[]\n",
    "p= df_new.text.str.split()\n",
    "p=p.values.tolist()\n",
    "\n",
    "corpus=[word.lower() for i in p for word in i if word not in stop]   ## lowering the word before adding to corpus\n",
    "\n",
    "from collections import Counter\n",
    "counter = Counter(corpus)\n",
    "freq = counter.most_common()\n",
    "\n",
    "x, y= [], []\n",
    "for word,count in freq[:30]:\n",
    "    if (word not in stop):\n",
    "        x.append(word)\n",
    "        y.append(count)\n",
    "        \n",
    "sns.barplot(x=y,y=x)"
   ]
  },
  {
   "cell_type": "code",
   "execution_count": 63,
   "id": "9e07f2f4",
   "metadata": {},
   "outputs": [
    {
     "data": {
      "image/png": "[encoded data removed]",
      "text/plain": [
       "<Figure size 864x864 with 1 Axes>"
      ]
     },
     "metadata": {
      "needs_background": "light"
     },
     "output_type": "display_data"
    }
   ],
   "source": [
    "## USING WORDCLOUD\n",
    "from wordcloud import WordCloud, STOPWORDS\n",
    "stopwords = set(STOPWORDS)\n",
    "def show_wordcloud(data):\n",
    "    wordcloud = WordCloud(\n",
    "        background_color='white',\n",
    "        stopwords=stop,\n",
    "        max_words=100,\n",
    "        max_font_size=30,\n",
    "        scale=3,\n",
    "        random_state=1)\n",
    "   \n",
    "    wordcloud=wordcloud.generate(str(data))\n",
    "    fig = plt.figure(1, figsize=(12, 12))\n",
    "    plt.axis('off')\n",
    "    plt.imshow(wordcloud)\n",
    "    plt.show()\n",
    "show_wordcloud(corpus)"
   ]
  },
  {
   "cell_type": "code",
   "execution_count": 64,
   "id": "f07c3954",
   "metadata": {},
   "outputs": [],
   "source": [
    "X = df_new.text\n",
    "Y= df_new.target"
   ]
  },
  {
   "cell_type": "code",
   "execution_count": 65,
   "id": "4a1548f3",
   "metadata": {},
   "outputs": [],
   "source": [
    "x_list = []   ## removing stopwords\n",
    "for i in X:\n",
    "       \n",
    "    wor = i.split()\n",
    "    filtered_words = [w for w in wor if w not in stop]\n",
    "    i = filtered_words\n",
    "    i= ' '.join(i)\n",
    "    x_list.append(i)\n",
    "    "
   ]
  },
  {
   "cell_type": "code",
   "execution_count": 66,
   "id": "87717b60",
   "metadata": {},
   "outputs": [],
   "source": [
    "x = np.array(x_list)\n",
    "y = np.array(Y)"
   ]
  },
  {
   "cell_type": "code",
   "execution_count": 67,
   "id": "2840eba5",
   "metadata": {},
   "outputs": [
    {
     "name": "stdout",
     "output_type": "stream",
     "text": [
      "Found 22692 unique tokens.\n"
     ]
    }
   ],
   "source": [
    "## tokenize the word to create embedding\n",
    "vocab_size = 2000\n",
    "tk = keras.preprocessing.text.Tokenizer(num_words=vocab_size, filters='!\"#$%&()*+,-./:;<=>?@[\\\\]^_`{|}~\\t\\n', lower=True, split=\" \")\n",
    "tk.fit_on_texts(x)\n",
    "x_new = tk.texts_to_sequences(x)\n",
    "word_index = tk.word_index  # index of unique words\n",
    "print('Found %s unique tokens.' % len(word_index))"
   ]
  },
  {
   "cell_type": "code",
   "execution_count": 68,
   "id": "b751416c",
   "metadata": {},
   "outputs": [
    {
     "data": {
      "text/plain": [
       "8.985682385393407"
      ]
     },
     "execution_count": 68,
     "metadata": {},
     "output_type": "execute_result"
    }
   ],
   "source": [
    "## avg tokens per sentence\n",
    "count = 0\n",
    "for i in range(len(x_new)):\n",
    "    count = count + len(x_new[i])\n",
    "    \n",
    "count/len(x_new)  ### 10 words per tweet avg"
   ]
  },
  {
   "cell_type": "code",
   "execution_count": 69,
   "id": "7bcebc49",
   "metadata": {},
   "outputs": [],
   "source": [
    "from keras.preprocessing.sequence import pad_sequences\n",
    "from sklearn.model_selection import train_test_split\n",
    "max_len = 50       #length of sequence\n",
    "batch_size = 32\n",
    "epochs = 5\n",
    "max_features = 100\n",
    "x_new = pad_sequences(x_new, maxlen=max_len, padding='pre')\n",
    "x_train, x_test, y_train, y_test = train_test_split(x_new, y, test_size=0.2, random_state=42)"
   ]
  },
  {
   "cell_type": "code",
   "execution_count": 70,
   "id": "36d26857",
   "metadata": {
    "scrolled": true
   },
   "outputs": [
    {
     "data": {
      "text/plain": [
       "(6090, 50)"
      ]
     },
     "execution_count": 70,
     "metadata": {},
     "output_type": "execute_result"
    }
   ],
   "source": [
    "x_train.shape"
   ]
  },
  {
   "cell_type": "markdown",
   "id": "28735ad4",
   "metadata": {},
   "source": [
    "## normal model"
   ]
  },
  {
   "cell_type": "code",
   "execution_count": 71,
   "id": "dd595d44",
   "metadata": {},
   "outputs": [
    {
     "name": "stdout",
     "output_type": "stream",
     "text": [
      "Model: \"sequential_5\"\n",
      "_________________________________________________________________\n",
      "Layer (type)                 Output Shape              Param #   \n",
      "=================================================================\n",
      "embedding_5 (Embedding)      (None, 50, 100)           200000    \n",
      "_________________________________________________________________\n",
      "lstm_16 (LSTM)               (None, 64)                42240     \n",
      "_________________________________________________________________\n",
      "dense_41 (Dense)             (None, 256)               16640     \n",
      "_________________________________________________________________\n",
      "dense_42 (Dense)             (None, 1)                 257       \n",
      "=================================================================\n",
      "Total params: 259,137\n",
      "Trainable params: 259,137\n",
      "Non-trainable params: 0\n",
      "_________________________________________________________________\n"
     ]
    }
   ],
   "source": [
    "from keras.layers import LSTM, Activation, Dense, Dropout, Input, Embedding\n",
    "from keras.optimizers import RMSprop\n",
    "from keras.models import Sequential\n",
    "def RNN():\n",
    "    model = Sequential()\n",
    "    model.add(Embedding(vocab_size,max_features,input_length=max_len))\n",
    "    model.add(LSTM(64))\n",
    "    model.add(Dense(256,activation='relu',kernel_initializer=\"he_uniform\"))\n",
    "    \n",
    "    model.add(Dense(1,activation='sigmoid',kernel_initializer=\"glorot_uniform\"))\n",
    "    return model\n",
    "\n",
    "model = RNN()\n",
    "model.summary()\n",
    "model.compile(loss='binary_crossentropy',optimizer=keras.optimizers.Adam(0.001),metrics=['accuracy'])"
   ]
  },
  {
   "cell_type": "code",
   "execution_count": 72,
   "id": "f237296a",
   "metadata": {
    "scrolled": true
   },
   "outputs": [
    {
     "name": "stdout",
     "output_type": "stream",
     "text": [
      "Epoch 1/5\n",
      "191/191 [==============================] - 10s 40ms/step - loss: 0.6089 - accuracy: 0.6666 - val_loss: 0.4422 - val_accuracy: 0.8024\n",
      "Epoch 2/5\n",
      "191/191 [==============================] - 7s 35ms/step - loss: 0.3678 - accuracy: 0.8470 - val_loss: 0.4498 - val_accuracy: 0.7991\n",
      "Epoch 3/5\n",
      "191/191 [==============================] - 7s 38ms/step - loss: 0.3129 - accuracy: 0.8728 - val_loss: 0.4914 - val_accuracy: 0.7748\n",
      "Epoch 4/5\n",
      "191/191 [==============================] - 6s 33ms/step - loss: 0.2647 - accuracy: 0.8963 - val_loss: 0.5386 - val_accuracy: 0.7761\n",
      "Epoch 5/5\n",
      "191/191 [==============================] - 7s 35ms/step - loss: 0.2130 - accuracy: 0.9155 - val_loss: 0.6754 - val_accuracy: 0.7498\n"
     ]
    },
    {
     "data": {
      "text/plain": [
       "<tensorflow.python.keras.callbacks.History at 0x160124890>"
      ]
     },
     "execution_count": 72,
     "metadata": {},
     "output_type": "execute_result"
    }
   ],
   "source": [
    "from keras.callbacks import EarlyStopping\n",
    "model.fit(x_train, y_train,validation_data= (x_test, y_test), epochs= epochs, batch_size = batch_size,)\n",
    "\n",
    "\n",
    "#callbacks=[EarlyStopping(monitor='val_loss',min_delta=0.0001)]\n"
   ]
  },
  {
   "cell_type": "code",
   "execution_count": 73,
   "id": "eb5ce4fb",
   "metadata": {
    "scrolled": false
   },
   "outputs": [
    {
     "name": "stdout",
     "output_type": "stream",
     "text": [
      "48/48 [==============================] - 1s 12ms/step - loss: 0.6754 - accuracy: 0.7498\n"
     ]
    },
    {
     "data": {
      "text/plain": [
       "[0.6753894090652466, 0.7498358488082886]"
      ]
     },
     "execution_count": 73,
     "metadata": {},
     "output_type": "execute_result"
    }
   ],
   "source": [
    "model.evaluate(x_test,y_test)"
   ]
  },
  {
   "cell_type": "markdown",
   "id": "789ee623",
   "metadata": {},
   "source": [
    "## keras tuner"
   ]
  },
  {
   "cell_type": "code",
   "execution_count": 51,
   "id": "f51009a6",
   "metadata": {
    "scrolled": true
   },
   "outputs": [
    {
     "ename": "NameError",
     "evalue": "name 'RandomSearch' is not defined",
     "output_type": "error",
     "traceback": [
      "\u001b[0;31m---------------------------------------------------------------------------\u001b[0m",
      "\u001b[0;31mNameError\u001b[0m                                 Traceback (most recent call last)",
      "\u001b[0;32m<ipython-input-51-b79c0fbcfca4>\u001b[0m in \u001b[0;36m<module>\u001b[0;34m\u001b[0m\n\u001b[1;32m     30\u001b[0m     \u001b[0;32mreturn\u001b[0m \u001b[0mmodel\u001b[0m\u001b[0;34m\u001b[0m\u001b[0;34m\u001b[0m\u001b[0m\n\u001b[1;32m     31\u001b[0m \u001b[0;34m\u001b[0m\u001b[0m\n\u001b[0;32m---> 32\u001b[0;31m tuner = RandomSearch(\n\u001b[0m\u001b[1;32m     33\u001b[0m     \u001b[0mbuild_model\u001b[0m\u001b[0;34m,\u001b[0m\u001b[0;34m\u001b[0m\u001b[0;34m\u001b[0m\u001b[0m\n\u001b[1;32m     34\u001b[0m     \u001b[0mobjective\u001b[0m\u001b[0;34m=\u001b[0m\u001b[0;34m'val_accuracy'\u001b[0m\u001b[0;34m,\u001b[0m\u001b[0;34m\u001b[0m\u001b[0;34m\u001b[0m\u001b[0m\n",
      "\u001b[0;31mNameError\u001b[0m: name 'RandomSearch' is not defined"
     ]
    }
   ],
   "source": [
    "import keras\n",
    "from keras.models import Sequential\n",
    "from keras.layers import Dense,LSTM,Embedding\n",
    "from keras.layers import LeakyReLU, PReLU, ELU\n",
    "from keras.layers import Dropout\n",
    "\n",
    "## this is a build function we define\n",
    "def build_model(hp):\n",
    "    model = Sequential()\n",
    "    model.add(Embedding(vocab_size,max_features,input_length=max_len))\n",
    "    for i in range(hp.Int('layers1',1,10)):\n",
    "        model.add(LSTM(units=hp.Int('unit_'+str(i),\n",
    "                                     min_value=32,\n",
    "                                     max_value=532,\n",
    "                                     step=32),return_sequences=True))\n",
    "    model.add(LSTM(units=hp.Int('unit_'+str(i),\n",
    "                                     min_value=32,\n",
    "                                     max_value=532,\n",
    "                                     step=32)))\n",
    "    for i in range(hp.Int('layers2',1,50)):\n",
    "        model.add(Dense(units=hp.Int('unit_'+str(i),\n",
    "                                     min_value=32,\n",
    "                                     max_value=532,\n",
    "                                     step=32),activation='relu',kernel_initializer=\"he_uniform\"))   \n",
    "\n",
    "    model.add(Dense(units=1,activation='sigmoid',kernel_initializer=\"glorot_uniform\"))\n",
    "    model.compile(optimizer=keras.optimizers.Adam(hp.Choice('learning_rate',[1e-2,1e-3,1e-4])),\n",
    "                 loss=keras.losses.binary_crossentropy,\n",
    "                 metrics=['accuracy'])\n",
    "    return model\n",
    "                  \n",
    "tuner = RandomSearch(\n",
    "    build_model,\n",
    "    objective='val_accuracy',\n",
    "    max_trials=5,\n",
    "    executions_per_trial = 2,\n",
    "    directory='.',\n",
    "    project_name='my_project'\n",
    "    \n",
    "\n",
    ")"
   ]
  },
  {
   "cell_type": "code",
   "execution_count": null,
   "id": "317e882d",
   "metadata": {},
   "outputs": [],
   "source": [
    "## tuner tuned in collab\n",
    "tuner.search(x_train,y_train,\n",
    "            validation_data=(x_test,y_test),\n",
    "             epochs=5)"
   ]
  },
  {
   "cell_type": "markdown",
   "id": "20e63585",
   "metadata": {},
   "source": [
    "## from kerastuner\n",
    "Results summary\n",
    "Results in ./my_project_4\n",
    "Showing 10 best trials\n",
    "Objective(name='val_accuracy', direction='max')\n",
    "Trial summary\n",
    "Hyperparameters:\n",
    "layers1: 3\n",
    "unit_0: 256\n",
    "layers2: 21\n",
    "learning_rate: 0.0001\n",
    "unit_1: 32\n",
    "unit_2: 32\n",
    "unit_3: 32\n",
    "unit_4: 32\n",
    "unit_5: 32\n",
    "unit_6: 32\n",
    "unit_7: 32\n",
    "unit_8: 32\n",
    "unit_9: 32\n",
    "unit_10: 32\n",
    "unit_11: 32\n",
    "unit_12: 32\n",
    "unit_13: 32\n",
    "unit_14: 32\n",
    "unit_15: 32\n",
    "unit_16: 32\n",
    "unit_17: 32\n",
    "unit_18: 32\n",
    "unit_19: 32\n",
    "unit_20: 32\n",
    "Score: 0.8095863461494446\n",
    "Trial summary"
   ]
  },
  {
   "cell_type": "markdown",
   "id": "7dbbaa9d",
   "metadata": {},
   "source": [
    "Model: \"sequential\"\n",
    "_________________________________________________________________\n",
    "Layer (type)                 Output Shape              Param #   \n",
    "=================================================================\n",
    "embedding (Embedding)        (None, 50, 100)           200000    \n",
    "_________________________________________________________________\n",
    "lstm (LSTM)                  (None, 50, 256)           365568    \n",
    "_________________________________________________________________\n",
    "lstm_1 (LSTM)                (None, 50, 32)            36992     \n",
    "_________________________________________________________________\n",
    "lstm_2 (LSTM)                (None, 50, 32)            8320      \n",
    "_________________________________________________________________\n",
    "lstm_3 (LSTM)                (None, 32)                8320      \n",
    "_________________________________________________________________\n",
    "dense (Dense)                (None, 256)               8448      \n",
    "_________________________________________________________________\n",
    "dense_1 (Dense)              (None, 32)                8224      \n",
    "_________________________________________________________________\n",
    "dense_2 (Dense)              (None, 32)                1056      \n",
    "_________________________________________________________________\n",
    "dense_3 (Dense)              (None, 32)                1056      \n",
    "_________________________________________________________________\n",
    "dense_4 (Dense)              (None, 32)                1056      \n",
    "_________________________________________________________________\n",
    "dense_5 (Dense)              (None, 32)                1056      \n",
    "_________________________________________________________________\n",
    "dense_6 (Dense)              (None, 32)                1056      \n",
    "_________________________________________________________________\n",
    "dense_7 (Dense)              (None, 32)                1056      \n",
    "_________________________________________________________________\n",
    "dense_8 (Dense)              (None, 32)                1056      \n",
    "_________________________________________________________________\n",
    "dense_9 (Dense)              (None, 32)                1056      \n",
    "_________________________________________________________________\n",
    "dense_10 (Dense)             (None, 32)                1056      \n",
    "_________________________________________________________________\n",
    "dense_11 (Dense)             (None, 32)                1056      \n",
    "_________________________________________________________________\n",
    "dense_12 (Dense)             (None, 32)                1056      \n",
    "_________________________________________________________________\n",
    "dense_13 (Dense)             (None, 32)                1056      \n",
    "_________________________________________________________________\n",
    "dense_14 (Dense)             (None, 32)                1056      \n",
    "_________________________________________________________________\n",
    "dense_15 (Dense)             (None, 32)                1056      \n",
    "_________________________________________________________________\n",
    "dense_16 (Dense)             (None, 32)                1056      \n",
    "_________________________________________________________________\n",
    "dense_17 (Dense)             (None, 32)                1056      \n",
    "_________________________________________________________________\n",
    "dense_18 (Dense)             (None, 32)                1056      \n",
    "_________________________________________________________________\n",
    "dense_19 (Dense)             (None, 32)                1056      \n",
    "_________________________________________________________________\n",
    "dense_20 (Dense)             (None, 32)                1056      \n",
    "_________________________________________________________________\n",
    "dense_21 (Dense)             (None, 1)                 33        \n",
    "=================================================================\n",
    "Total params: 655,969\n",
    "Trainable params: 655,969\n",
    "Non-trainable params: 0"
   ]
  },
  {
   "cell_type": "code",
   "execution_count": 27,
   "id": "216d3261",
   "metadata": {},
   "outputs": [],
   "source": [
    "def make_model(l1,n1,l2,n2=32):\n",
    "    model = Sequential()\n",
    "    model.add(Embedding(vocab_size,max_features,input_length=max_len))\n",
    "    for i in range(l1):\n",
    "        model.add(LSTM(n1[i],return_sequences=True))\n",
    "        \n",
    "    model.add(LSTM(32))   \n",
    "    \n",
    "    for i in range(l2):\n",
    "        model.add(Dense(n2,activation='relu',kernel_initializer=\"he_uniform\"))\n",
    "    \n",
    "    model.add(Dense(units=1,activation='sigmoid',kernel_initializer=\"glorot_uniform\"))\n",
    "    model.compile(optimizer=keras.optimizers.Adam(0.0001),\n",
    "                 loss=keras.losses.binary_crossentropy,\n",
    "                 metrics=['accuracy'])\n",
    "\n",
    "    return model"
   ]
  },
  {
   "cell_type": "code",
   "execution_count": 30,
   "id": "edf1dc56",
   "metadata": {},
   "outputs": [],
   "source": [
    "l1 = 3\n",
    "n1 = [256,32,32]\n",
    "l2 = 20\n",
    "\n",
    "model_tuned = make_model(l1,n1,l2)\n"
   ]
  },
  {
   "cell_type": "code",
   "execution_count": 31,
   "id": "1f82f36e",
   "metadata": {
    "scrolled": true
   },
   "outputs": [
    {
     "name": "stdout",
     "output_type": "stream",
     "text": [
      "Model: \"sequential_4\"\n",
      "_________________________________________________________________\n",
      "Layer (type)                 Output Shape              Param #   \n",
      "=================================================================\n",
      "embedding_4 (Embedding)      (None, 50, 100)           200000    \n",
      "_________________________________________________________________\n",
      "lstm_12 (LSTM)               (None, 50, 256)           365568    \n",
      "_________________________________________________________________\n",
      "lstm_13 (LSTM)               (None, 50, 32)            36992     \n",
      "_________________________________________________________________\n",
      "lstm_14 (LSTM)               (None, 50, 32)            8320      \n",
      "_________________________________________________________________\n",
      "lstm_15 (LSTM)               (None, 32)                8320      \n",
      "_________________________________________________________________\n",
      "dense_20 (Dense)             (None, 32)                1056      \n",
      "_________________________________________________________________\n",
      "dense_21 (Dense)             (None, 32)                1056      \n",
      "_________________________________________________________________\n",
      "dense_22 (Dense)             (None, 32)                1056      \n",
      "_________________________________________________________________\n",
      "dense_23 (Dense)             (None, 32)                1056      \n",
      "_________________________________________________________________\n",
      "dense_24 (Dense)             (None, 32)                1056      \n",
      "_________________________________________________________________\n",
      "dense_25 (Dense)             (None, 32)                1056      \n",
      "_________________________________________________________________\n",
      "dense_26 (Dense)             (None, 32)                1056      \n",
      "_________________________________________________________________\n",
      "dense_27 (Dense)             (None, 32)                1056      \n",
      "_________________________________________________________________\n",
      "dense_28 (Dense)             (None, 32)                1056      \n",
      "_________________________________________________________________\n",
      "dense_29 (Dense)             (None, 32)                1056      \n",
      "_________________________________________________________________\n",
      "dense_30 (Dense)             (None, 32)                1056      \n",
      "_________________________________________________________________\n",
      "dense_31 (Dense)             (None, 32)                1056      \n",
      "_________________________________________________________________\n",
      "dense_32 (Dense)             (None, 32)                1056      \n",
      "_________________________________________________________________\n",
      "dense_33 (Dense)             (None, 32)                1056      \n",
      "_________________________________________________________________\n",
      "dense_34 (Dense)             (None, 32)                1056      \n",
      "_________________________________________________________________\n",
      "dense_35 (Dense)             (None, 32)                1056      \n",
      "_________________________________________________________________\n",
      "dense_36 (Dense)             (None, 32)                1056      \n",
      "_________________________________________________________________\n",
      "dense_37 (Dense)             (None, 32)                1056      \n",
      "_________________________________________________________________\n",
      "dense_38 (Dense)             (None, 32)                1056      \n",
      "_________________________________________________________________\n",
      "dense_39 (Dense)             (None, 32)                1056      \n",
      "_________________________________________________________________\n",
      "dense_40 (Dense)             (None, 1)                 33        \n",
      "=================================================================\n",
      "Total params: 640,353\n",
      "Trainable params: 640,353\n",
      "Non-trainable params: 0\n",
      "_________________________________________________________________\n"
     ]
    }
   ],
   "source": [
    "model_tuned.summary()"
   ]
  },
  {
   "cell_type": "code",
   "execution_count": 32,
   "id": "679eb172",
   "metadata": {
    "scrolled": true
   },
   "outputs": [
    {
     "name": "stdout",
     "output_type": "stream",
     "text": [
      "Epoch 1/5\n",
      "191/191 [==============================] - 63s 288ms/step - loss: 0.6840 - accuracy: 0.5775 - val_loss: 0.6756 - val_accuracy: 0.6382\n",
      "Epoch 2/5\n",
      "191/191 [==============================] - 48s 250ms/step - loss: 0.6490 - accuracy: 0.6321 - val_loss: 0.5483 - val_accuracy: 0.7905\n",
      "Epoch 3/5\n",
      "191/191 [==============================] - 48s 254ms/step - loss: 0.5042 - accuracy: 0.7945 - val_loss: 0.4482 - val_accuracy: 0.8070\n",
      "Epoch 4/5\n",
      "191/191 [==============================] - 44s 229ms/step - loss: 0.3956 - accuracy: 0.8364 - val_loss: 0.4591 - val_accuracy: 0.7997\n",
      "Epoch 5/5\n",
      "191/191 [==============================] - 42s 220ms/step - loss: 0.3616 - accuracy: 0.8586 - val_loss: 0.4517 - val_accuracy: 0.8096\n"
     ]
    },
    {
     "data": {
      "text/plain": [
       "<tensorflow.python.keras.callbacks.History at 0x15728f6d0>"
      ]
     },
     "execution_count": 32,
     "metadata": {},
     "output_type": "execute_result"
    }
   ],
   "source": [
    "model_tuned.fit(x_train,y_train,validation_data=(x_test,y_test),epochs=5,batch_size=32)"
   ]
  },
  {
   "cell_type": "code",
   "execution_count": 74,
   "id": "fead8df9",
   "metadata": {
    "scrolled": true
   },
   "outputs": [
    {
     "name": "stdout",
     "output_type": "stream",
     "text": [
      "Saved model to disk\n",
      "Saved model to disk\n"
     ]
    }
   ],
   "source": [
    "## new way, json and h5py\n",
    "# serialize model to JSON\n",
    "model_json = model_tuned.to_json()\n",
    "with open(\"model_disaster_pre.json\", \"w\") as json_file:\n",
    "    json_file.write(model_json)\n",
    "# serialize weights to HDF5\n",
    "model.save_weights(\"model_disaster.h5\")\n",
    "print(\"Saved model to disk\")\n",
    "\n",
    "## did not work\n",
    "\n",
    "## new way, json and h5py\n",
    "# serialize model to JSON\n",
    "model_json = model_tuned.to_json()\n",
    "with open(\"model_disaster_tuned.json\", \"w\") as json_file:\n",
    "    json_file.write(model_json)\n",
    "# serialize weights to HDF5\n",
    "model_tuned.save_weights(\"model_disaster_tuned.h5\")\n",
    "print(\"Saved model to disk\")\n",
    "\n",
    "## did not work"
   ]
  },
  {
   "cell_type": "markdown",
   "id": "bcee2f65",
   "metadata": {},
   "source": [
    "## ON DATA WITH NO LABEL GIVEN"
   ]
  },
  {
   "cell_type": "code",
   "execution_count": 37,
   "id": "fb88aabd",
   "metadata": {},
   "outputs": [
    {
     "data": {
      "text/html": [
       "<div>\n",
       "<style scoped>\n",
       "    .dataframe tbody tr th:only-of-type {\n",
       "        vertical-align: middle;\n",
       "    }\n",
       "\n",
       "    .dataframe tbody tr th {\n",
       "        vertical-align: top;\n",
       "    }\n",
       "\n",
       "    .dataframe thead th {\n",
       "        text-align: right;\n",
       "    }\n",
       "</style>\n",
       "<table border=\"1\" class=\"dataframe\">\n",
       "  <thead>\n",
       "    <tr style=\"text-align: right;\">\n",
       "      <th></th>\n",
       "      <th>id</th>\n",
       "      <th>keyword</th>\n",
       "      <th>location</th>\n",
       "      <th>text</th>\n",
       "    </tr>\n",
       "  </thead>\n",
       "  <tbody>\n",
       "    <tr>\n",
       "      <th>0</th>\n",
       "      <td>0</td>\n",
       "      <td>NaN</td>\n",
       "      <td>NaN</td>\n",
       "      <td>Just happened a terrible car crash</td>\n",
       "    </tr>\n",
       "    <tr>\n",
       "      <th>1</th>\n",
       "      <td>2</td>\n",
       "      <td>NaN</td>\n",
       "      <td>NaN</td>\n",
       "      <td>Heard about #earthquake is different cities, s...</td>\n",
       "    </tr>\n",
       "    <tr>\n",
       "      <th>2</th>\n",
       "      <td>3</td>\n",
       "      <td>NaN</td>\n",
       "      <td>NaN</td>\n",
       "      <td>there is a forest fire at spot pond, geese are...</td>\n",
       "    </tr>\n",
       "    <tr>\n",
       "      <th>3</th>\n",
       "      <td>9</td>\n",
       "      <td>NaN</td>\n",
       "      <td>NaN</td>\n",
       "      <td>Apocalypse lighting. #Spokane #wildfires</td>\n",
       "    </tr>\n",
       "    <tr>\n",
       "      <th>4</th>\n",
       "      <td>11</td>\n",
       "      <td>NaN</td>\n",
       "      <td>NaN</td>\n",
       "      <td>Typhoon Soudelor kills 28 in China and Taiwan</td>\n",
       "    </tr>\n",
       "  </tbody>\n",
       "</table>\n",
       "</div>"
      ],
      "text/plain": [
       "   id keyword location                                               text\n",
       "0   0     NaN      NaN                 Just happened a terrible car crash\n",
       "1   2     NaN      NaN  Heard about #earthquake is different cities, s...\n",
       "2   3     NaN      NaN  there is a forest fire at spot pond, geese are...\n",
       "3   9     NaN      NaN           Apocalypse lighting. #Spokane #wildfires\n",
       "4  11     NaN      NaN      Typhoon Soudelor kills 28 in China and Taiwan"
      ]
     },
     "execution_count": 37,
     "metadata": {},
     "output_type": "execute_result"
    }
   ],
   "source": [
    "test_data = pd.read_csv('test.csv')\n",
    "test_data.head()"
   ]
  },
  {
   "cell_type": "code",
   "execution_count": 38,
   "id": "c43b2756",
   "metadata": {},
   "outputs": [
    {
     "name": "stdout",
     "output_type": "stream",
     "text": [
      "Loaded model from disk\n"
     ]
    }
   ],
   "source": [
    "from keras.models import model_from_json\n",
    "# load json and create model\n",
    "json_file = open('model_disaster_pre.json', 'r')\n",
    "loaded_model_json = json_file.read()\n",
    "json_file.close()\n",
    "loaded_model = model_from_json(loaded_model_json)\n",
    "# load weights into new model\n",
    "loaded_model.load_weights(\"model_disaster.h5\")\n",
    "print(\"Loaded model from disk\")\n",
    "\n",
    "loaded_model.compile(optimizer='adam',loss='binary_crossentropy',metrics=['accuracy'])"
   ]
  },
  {
   "cell_type": "code",
   "execution_count": 39,
   "id": "c03f33f5",
   "metadata": {},
   "outputs": [
    {
     "name": "stdout",
     "output_type": "stream",
     "text": [
      "Found 12800 unique tokens.\n"
     ]
    }
   ],
   "source": [
    "stop = set(nltk.corpus.stopwords.words('english'))\n",
    "X = test_data.text\n",
    "x_list = []   ## removing stopwords\n",
    "for i in X:\n",
    "       \n",
    "    wor = i.split()\n",
    "    filtered_words = [w for w in wor if w not in stop]\n",
    "    i = filtered_words\n",
    "    i= ' '.join(i)\n",
    "    x_list.append(i)\n",
    "    \n",
    "x = np.array(x_list)\n",
    "\n",
    "    \n",
    "## tokenize the word to create embedding\n",
    "vocab_size = 2000\n",
    "tk = keras.preprocessing.text.Tokenizer(num_words=vocab_size, filters='!\"#$%&()*+,-./:;<=>?@[\\\\]^_`{|}~\\t\\n', lower=True, split=\" \")\n",
    "tk.fit_on_texts(x)\n",
    "x_new = tk.texts_to_sequences(x)\n",
    "word_index = tk.word_index  # index of unique words\n",
    "print('Found %s unique tokens.' % len(word_index))\n",
    "\n",
    "from keras.preprocessing.sequence import pad_sequences\n",
    "from sklearn.model_selection import train_test_split\n",
    "max_len = 50       #length of sequence\n",
    "batch_size = 32\n",
    "epochs = 5\n",
    "max_features = 100\n",
    "x_test = pad_sequences(x_new, maxlen=max_len, padding='pre')"
   ]
  },
  {
   "cell_type": "code",
   "execution_count": 40,
   "id": "e41659d3",
   "metadata": {},
   "outputs": [
    {
     "data": {
      "text/plain": [
       "(3263, 50)"
      ]
     },
     "execution_count": 40,
     "metadata": {},
     "output_type": "execute_result"
    }
   ],
   "source": [
    "x_test.shape"
   ]
  },
  {
   "cell_type": "code",
   "execution_count": 42,
   "id": "3e6b7020",
   "metadata": {},
   "outputs": [],
   "source": [
    "y_pred = loaded_model.predict(x_test)\n",
    "y_pred_new = model_tuned.predict(x_test)"
   ]
  },
  {
   "cell_type": "code",
   "execution_count": 50,
   "id": "6a275720",
   "metadata": {
    "scrolled": true
   },
   "outputs": [
    {
     "name": "stdout",
     "output_type": "stream",
     "text": [
      "Just happened a terrible car crash\n",
      "prediction:  0\n",
      "------\n",
      "Heard about #earthquake is different cities, stay safe everyone.\n",
      "prediction:  0\n",
      "------\n",
      "there is a forest fire at spot pond, geese are fleeing across the street, I cannot save them all\n",
      "prediction:  1\n",
      "------\n",
      "Apocalypse lighting. #Spokane #wildfires\n",
      "prediction:  0\n",
      "------\n",
      "Typhoon Soudelor kills 28 in China and Taiwan\n",
      "prediction:  1\n",
      "------\n",
      "We're shaking...It's an earthquake\n",
      "prediction:  0\n",
      "------\n",
      "They'd probably still show more life than Arsenal did yesterday, eh? EH?\n",
      "prediction:  1\n",
      "------\n",
      "Hey! How are you?\n",
      "prediction:  0\n",
      "------\n",
      "What a nice hat?\n",
      "prediction:  0\n",
      "------\n",
      "Fuck off!\n",
      "prediction:  0\n",
      "------\n",
      "No I don't like cold!\n",
      "prediction:  0\n",
      "------\n",
      "NOOOOOOOOO! Don't do that!\n",
      "prediction:  0\n",
      "------\n",
      "No don't tell me that!\n",
      "prediction:  0\n",
      "------\n",
      "What if?!\n",
      "prediction:  0\n",
      "------\n",
      "Awesome!\n",
      "prediction:  0\n",
      "------\n",
      "Birmingham Wholesale Market is ablaze BBC News - Fire breaks out at Birmingham's Wholesale Market http://t.co/irWqCEZWEU\n",
      "prediction:  1\n",
      "------\n",
      "@sunkxssedharry will you wear shorts for race ablaze ?\n",
      "prediction:  0\n",
      "------\n",
      "#PreviouslyOnDoyinTv: Toke MakinwaÛªs marriage crisis sets Nigerian Twitter ablaze... http://t.co/CMghxBa2XI\n",
      "prediction:  0\n",
      "------\n",
      "Check these out: http://t.co/rOI2NSmEJJ http://t.co/3Tj8ZjiN21 http://t.co/YDUiXEfIpE http://t.co/LxTjc87KLS #nsfw\n",
      "prediction:  0\n",
      "------\n",
      "PSA: IÛªm splitting my personalities.\n",
      "\n",
      "?? techies follow @ablaze_co\n",
      "?? Burners follow @ablaze\n",
      "prediction:  0\n",
      "------\n",
      "beware world ablaze sierra leone &amp; guap.\n",
      "prediction:  0\n",
      "------\n",
      "Burning Man Ablaze! by Turban Diva http://t.co/hodWosAmWS via @Etsy\n",
      "prediction:  0\n",
      "------\n",
      "Not a diss song. People will take 1 thing and run with it. Smh it's an eye opener though. He is about 2 set the game ablaze @CyhiThePrynce\n",
      "prediction:  0\n",
      "------\n",
      "Rape victim dies as she sets herself ablaze: A 16-year-old girl died of burn injuries as she set herself ablazeÛ_ http://t.co/UK8hNrbOob\n",
      "prediction:  1\n",
      "------\n",
      "SETTING MYSELF ABLAZE http://t.co/6vMe7P5XhC\n",
      "prediction:  0\n",
      "------\n",
      "@CTVToronto the bins in front of the field by my house wer set ablaze the other day flames went rite up the hydro pole wonder if it was him\n",
      "prediction:  0\n",
      "------\n",
      "#nowplaying Alfons - Ablaze 2015 on Puls Radio #pulsradio http://t.co/aA5BJgWfDv\n",
      "prediction:  0\n",
      "------\n",
      "'Burning Rahm': Let's hope City Hall builds a giant wooden mayoral effigy 100 feet tall &amp; sets it ablaze. http://t.co/kFo2mksn6Y @John_Kass\n",
      "prediction:  1\n",
      "------\n",
      "@PhilippaEilhart @DhuBlath hurt but her eyes ablaze with insulted anger.\n",
      "prediction:  0\n",
      "------\n",
      "Accident cleared in #PaTurnpike on PATP EB between PA-18 and Cranberry slow back to #traffic http://t.co/SL0Oqn0Vyr\n",
      "prediction:  1\n",
      "------\n",
      "Just got to love burning your self on a damn curling wand... I swear someone needs to take it away from me cuase I'm just accident prone.\n",
      "prediction:  0\n",
      "------\n",
      "I hate badging shit in accident\n",
      "prediction:  0\n",
      "------\n",
      "#3: Car Recorder ZeroEdgeå¨ Dual-lens Car Camera Vehicle Traffic/Driving History/Accident Camcorder  Large Re... http://t.co/kKFaSJv6Cj\n",
      "prediction:  0\n",
      "------\n",
      "Coincidence Or #Curse? Still #Unresolved Secrets From Past http://t.co/7VG8Df9pLE #accident\n",
      "prediction:  1\n",
      "------\n",
      "@Traffic_SouthE @roadpol_east Accident on A27 near Lewes is it Kingston Roundabout rather than A283\n",
      "prediction:  1\n",
      "------\n",
      "@sakuma_en If you pretend to feel a certain way the feeling can become genuine all by accident. -Hei (Darker than Black) #manga #anime\n",
      "prediction:  1\n",
      "------\n",
      "For Legal and Medical Referral Service @1800_Injured Call us at: 1-800-465-87332 #accident #slipandfall #dogbite\n",
      "prediction:  0\n",
      "------\n",
      "There's a construction guy working on the Disney store and he has huge gauges in his ears ?? ...that is a bloody accident waiting to happen\n",
      "prediction:  0\n",
      "------\n",
      "@RobynJilllian @WlSDOMTEETHS I feel like I'm going to do it on accident. Teesha is gonna come out??\n",
      "prediction:  0\n",
      "------\n",
      "On the #M42 northbound between junctions J3 and J3A there are currently delays of 10 mins due to an accident c... http://t.co/LwI3prBa31\n",
      "prediction:  1\n",
      "------\n",
      "@DaveOshry @Soembie So if I say that I met her by accident this week- would you be super jelly Dave? :p\n",
      "prediction:  0\n",
      "------\n",
      "ACCIDENT - HIT AND RUN - COLD at 500 BLOCK OF SE VISTA TER GRESHAM OR [Gresham Police #PG15000044357] 10:35 #pdx911\n",
      "prediction:  0\n",
      "------\n",
      "@Calum5SOS this happened on accident but I like it http://t.co/QHmXuljSX9\n",
      "prediction:  0\n",
      "------\n",
      "Please donate and spread the word! A training accident left the pole-vaulter Kira GrÌ_nberg a paraplegic http://t.co/6MpnyCl8PK\n",
      "prediction:  1\n",
      "------\n",
      "Please like and share our new page for our Indoor Trampoline Park Aftershock opening this fall!! http://t.co/UgXhHErrxS\n",
      "prediction:  1\n",
      "------\n",
      "@bxckylynch foi no ROH Aftershock: Las Vegas procura no pirate bay que tem\n",
      "prediction:  0\n",
      "------\n",
      "Schoolboy ÛÒ Aftershock (Original Mix)\n",
      "Excision &amp; Skism ÛÒ SEXisM (Far Too Loud Remix)\n",
      "Firebeatz Schella ÛÒ Dear New... http://t.co/JQLzUA6YzQ\n",
      "prediction:  1\n",
      "------\n",
      "320 [IR] ICEMOON [AFTERSHOCK] | http://t.co/THyzOMVWU0 | @djicemoon | #Dubstep #TrapMusic #DnB #EDM #Dance #IcesÛ_ http://t.co/83jOO0xk29\n",
      "prediction:  0\n",
      "------\n",
      "'When the aftershock happened (Nepal) we were the last int'l team still there; in a way we were 1st responders.' Chief Collins @LACo_FD\n",
      "prediction:  1\n",
      "------\n",
      "320 [IR] ICEMOON [AFTERSHOCK] | http://t.co/gRPeF7yAWG | @djicemoon | #Dubstep #TrapMusic #DnB #EDM #Dance #IcesÛ_ http://t.co/GGmvzT58vE\n",
      "prediction:  0\n",
      "------\n",
      "Stop saying 'I Wish' and start saying 'I Will'. ÛÒ Unknown\n",
      "prediction:  0\n",
      "------\n",
      "I want to go to Aftershock in October because it has all the bands I listen to and #NXT! Can't afford it yet though. #gradschoolapps\n",
      "prediction:  0\n",
      "------\n",
      "'We are still living in the aftershock of Hiroshima people are still the scars of history.' - Edward Bond http://t.co/engTl5wrGp\n",
      "prediction:  1\n",
      "------\n",
      "320 [IR] ICEMOON [AFTERSHOCK] | http://t.co/THyzOMVWU0 | @djicemoon | #Dubstep #TrapMusic #DnB #EDM #Dance #IcesÛ_ http://t.co/83jOO0xk29\n",
      "prediction:  0\n",
      "------\n",
      "Aftershock https://t.co/Ecy4U623nO\n",
      "prediction:  0\n",
      "------\n",
      "'There is no victory at bargain basement prices.' Dwight David Eisenhower\n",
      "prediction:  1\n",
      "------\n",
      "Bo2 had by far the best competitive maps imo hope bo3 is the same #InVahnWeTrust\n",
      "prediction:  0\n",
      "------\n",
      "Brass and Copper in Cataclysm &amp; AfterShock!!! http://t.co/uxYZyaygTy\n",
      "prediction:  1\n",
      "------\n",
      "@JadeForMKX You should be happy I don't use Aftershock. That variation counters your play style hard.\n",
      "prediction:  0\n",
      "------\n",
      "Aftershock https://t.co/38Nhq9moEf\n",
      "prediction:  0\n",
      "------\n",
      "When carelessness leads to an aviation accident the victim has the right to seek compensation for damages. http://t.co/eqAG6rz1vO\n",
      "prediction:  1\n",
      "------\n",
      "@rewind_music found out about you guys today(regarding the accident on the airplane lol) &amp; became a fan! Sending love &amp; support from Cali~?\n",
      "prediction:  0\n",
      "------\n",
      "A girl who died in an airplane accident fifteen years ago\n",
      "prediction:  1\n",
      "------\n",
      "@Mintechan Hihow are you? There is Keio line on the stationright? BTW do you know the airplane accident near Chofu airport this week?\n",
      "prediction:  0\n",
      "------\n",
      "Mexican airplane accident in Ocampo Coahuila MX on 7/29/25 killed Coahuila government SubSecretariat Francisco Garcia Castells age 42.\n",
      "prediction:  0\n",
      "------\n",
      "Horrible Accident  Man Died In Wings of AirplaneåÊ(29-07-2015) http://t.co/5ZRKZdhODe\n",
      "prediction:  0\n",
      "------\n",
      "@god if an accident were to happen on this airplane idc if the rest of my luggage is completely destroyed just please save my makeup\n",
      "prediction:  0\n",
      "------\n",
      "Horrible Accident Man Died In Wings of Airplane (29-07-2015) http://t.co/hG8u2kR1Rq\n",
      "prediction:  0\n",
      "------\n",
      "#UPDATE: Picture from the Penn Twp. airplane accident. http://t.co/6JfgDnZRlC\n",
      "prediction:  1\n",
      "------\n",
      "See how a judge ruled in this 2009 accident at #JFK Airport? involving Korean Air?.\n",
      "\n",
      "http://t.co/Yh1cGlN3rl http://t.co/6F5ShPKjOB\n",
      "prediction:  1\n",
      "------\n",
      "@thugIauren I had myself on airplane mode by accident ??\n",
      "prediction:  0\n",
      "------\n",
      "36 years ago today baseball lost one of its greats in an airplane accident. RIP Captain. #Yankees @yankees http://t.co/iNKU28vjJj\n",
      "prediction:  0\n",
      "------\n",
      "Experts in France begin examining airplane debris found on Reunion Island: French air accident experts on Wedn... http://t.co/miw2i0pQxz\n",
      "prediction:  1\n",
      "------\n",
      "#BreakingNews Experts in France begin examining airplane debris found on Reunion Island: French air accident e...  http://t.co/3XIcUvlvlJ\n"
     ]
    },
    {
     "name": "stdout",
     "output_type": "stream",
     "text": [
      "prediction:  1\n",
      "------\n",
      "Experts in France begin examining airplane debris found on Reunion Island: French air accident experts on Wedn...  http://t.co/KuBsM16OuD\n",
      "prediction:  1\n",
      "------\n",
      "Twelve feared killed in Pakistani air ambulance helicopter crash http://t.co/zdsug0UjS7\n",
      "prediction:  0\n",
      "------\n",
      "http://t.co/Q5XTkaKM08 I'M DYING SEND AN AMBULANCE @M__Belly @brightasastar_\n",
      "prediction:  0\n",
      "------\n",
      "AMBULANCE SPRINTER AUTOMATIC FRONTLINE VEHICLE CHOICE OF 14 LEZ COMPLIANT | eBay http://t.co/7X3PDDbT0Z\n",
      "prediction:  1\n",
      "------\n",
      "@disneyxrowbrina the ambulance isn't even parked well like its nearly on top of someone's car I'm laughing\n",
      "prediction:  0\n",
      "------\n",
      "Shot 12 times. Found dead in cuffs after being involved in a car accident. Officers told ambulance not to treat him. https://t.co/MEUDJwaaNg\n",
      "prediction:  1\n",
      "------\n",
      "@margaretcho Call me a fag and I'm going to call you an ambulance :) #RainbowPower\n",
      "prediction:  0\n",
      "------\n",
      "New Nanotech Device Will Be Able To Target And Destroy Blood Clots http://t.co/MnmyJXQ9go #science\n",
      "prediction:  0\n",
      "------\n",
      "@vballplaya2296 want me to send you  some medic supplies from my dad's ambulance?\n",
      "prediction:  0\n",
      "------\n",
      "2 held with heroin in ambulance http://t.co/d9sOwi1G21 http://t.co/OPxmdPIwAu\n",
      "prediction:  0\n",
      "------\n",
      "http://t.co/B2FaSrt1tN Twelve feared killed in Pakistani air ambulance helicopter crash http://t.co/O8BJXnEPQm\n",
      "prediction:  0\n",
      "------\n",
      "Why should a helicopter ambulance ride to transfer to a hospital 21 miles away cost $29800? http://t.co/7ZqIreY7Te http://t.co/9Qp3PqPwZv\n",
      "prediction:  0\n",
      "------\n",
      "so privileged and proud to wear this uniform.?? #NHS #Ambulance #GayUK #Uniform #Proud #Privileged #WhatsYourEmergency http://t.co/0BkmuhYSFx\n",
      "prediction:  1\n",
      "------\n",
      "The bartender at work described a drunk man as annihilated @kdunning1919 @hsnowberger @gabrielasmith29. 16 more days\n",
      "prediction:  0\n",
      "------\n",
      "Cop pulls drunk driver to safety SECONDS before his car is hit by train. http://t.co/cTL5xzIHxAåÊ http://t.co/1kDOZTD9mv via @ViralSpell\n",
      "prediction:  0\n",
      "------\n",
      "Cop pulls drunk driver to safety SECONDS before his car is hit by train. http://t.co/cSsc8HcsXnåÊ http://t.co/jBlGyLCsAy via @ViralSpell\n",
      "prediction:  0\n",
      "------\n",
      "@RosieGray Now in all sincerety do you think the UN would move to Israel if there was a fraction of a chance of being annihilated?\n",
      "prediction:  1\n",
      "------\n",
      "@johnboywest The only 'stage' the drama queen can stand on is a drama stage &amp; certainly never the world stage; he would be annihilated.\n",
      "prediction:  0\n",
      "------\n",
      "@_drodrolagi #handplacementgoals \n",
      "Bro we annihilated that hashtag this week.\n",
      "prediction:  1\n",
      "------\n",
      "How do I step outside for 5 seconds and get annihilated  by mosquitoes?\n",
      "prediction:  0\n",
      "------\n",
      "@jacksfilms #yiayplan well first we strike dreamworks and the minions will be annihilated.\n",
      "prediction:  0\n",
      "------\n",
      "'If your nature appropriates it love will burn you until you become annihilated in your beloved...'  https://t.co/sMlwjunD09\n",
      "prediction:  1\n",
      "------\n",
      "@NinaHoag - 'if you shred my Psych work our friendship would be annihilated'\n",
      "prediction:  0\n",
      "------\n",
      "@thehill this is 1 example of y the Conservatives annihilated Burton v Wiimington Prkng Auth while Liberals stood by &amp;have done nothing\n",
      "prediction:  0\n",
      "------\n",
      "Aug 3 1915ÛÓKAISERJAEGERS WIPED OUT.; Francis Joseph's Crack Regiment Annihilated on Carso Plateau.\n",
      "http://t.co/D1sPSwl66H\n",
      "prediction:  1\n",
      "------\n",
      "They should all die! All of them! Everything annihilated!\n",
      "prediction:  0\n",
      "------\n"
     ]
    }
   ],
   "source": [
    "for i in range(100):\n",
    "    input1 = test_data.text[i]\n",
    "    print(input1)\n",
    "    \n",
    "    op = model_tuned.predict(x_test[i].reshape(1,50))\n",
    "    if op>0.5:\n",
    "        op=1\n",
    "    else: \n",
    "        op = 0\n",
    "\n",
    "    print(\"prediction: \",op)\n",
    "    print('------')\n"
   ]
  },
  {
   "cell_type": "code",
   "execution_count": null,
   "id": "e68f161c",
   "metadata": {},
   "outputs": [],
   "source": []
  }
 ],
 "metadata": {
  "kernelspec": {
   "display_name": "Python 3",
   "language": "python",
   "name": "python3"
  },
  "language_info": {
   "codemirror_mode": {
    "name": "ipython",
    "version": 3
   },
   "file_extension": ".py",
   "mimetype": "text/x-python",
   "name": "python",
   "nbconvert_exporter": "python",
   "pygments_lexer": "ipython3",
   "version": "3.7.10"
  }
 },
 "nbformat": 4,
 "nbformat_minor": 5
}
